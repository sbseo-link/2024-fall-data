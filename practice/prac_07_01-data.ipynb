{
 "cells": [
  {
   "cell_type": "markdown",
   "metadata": {},
   "source": [
    "# 다양한 데이터 불러오기"
   ]
  },
  {
   "cell_type": "code",
   "execution_count": 1,
   "metadata": {},
   "outputs": [
    {
     "name": "stdout",
     "output_type": "stream",
     "text": [
      "이미지를 불러오는 데 실패했습니다.\n"
     ]
    }
   ],
   "source": [
    "# 이미지 데이터 불러오기 ()\n",
    "import requests\n",
    "from PIL import Image\n",
    "from io import BytesIO\n",
    "\n",
    "def load_image_from_google_drive(file_id):\n",
    "    # Google 드라이브 다운로드 링크 생성\n",
    "    url = f\"https://drive.google.com/uc?export=download&id={file_id}\"\n",
    "    # 이미지 요청 보내기\n",
    "    response = requests.get(url)\n",
    "    \n",
    "    # 요청 성공 시 이미지 열기\n",
    "    if response.status_code == 200:\n",
    "        image = Image.open(BytesIO(response.content))\n",
    "        return image\n",
    "    else:\n",
    "        print(\"이미지를 불러오는 데 실패했습니다.\")\n",
    "        return None\n",
    "\n",
    "# Google 드라이브 파일 ID를 입력\n",
    "file_id = \"1AptEbRPQj-oBmhW7bD657NsqzH0baZnh\"  # 여기에 Google 드라이브 파일 ID를 넣으세요\n",
    "image = load_image_from_google_drive(file_id)\n",
    "\n",
    "# 이미지가 제대로 로드되었는지 확인\n",
    "if image:\n",
    "    image.show()"
   ]
  },
  {
   "cell_type": "code",
   "execution_count": 3,
   "metadata": {},
   "outputs": [],
   "source": [
    "# 엑셀 데이터 불러오기 (https://drive.google.com/drive/folders/1AptEbRPQj-oBmhW7bD657NsqzH0baZnh/csv_sample.xlsx)"
   ]
  },
  {
   "cell_type": "code",
   "execution_count": 4,
   "metadata": {},
   "outputs": [],
   "source": [
    "# 소리 데이터 불러오기 (https://drive.google.com/drive/folders/1AptEbRPQj-oBmhW7bD657NsqzH0baZnh/speech_sample.wav)"
   ]
  },
  {
   "cell_type": "code",
   "execution_count": null,
   "metadata": {},
   "outputs": [],
   "source": []
  },
  {
   "cell_type": "code",
   "execution_count": null,
   "metadata": {},
   "outputs": [],
   "source": []
  },
  {
   "cell_type": "code",
   "execution_count": null,
   "metadata": {},
   "outputs": [],
   "source": []
  }
 ],
 "metadata": {
  "kernelspec": {
   "display_name": "base",
   "language": "python",
   "name": "python3"
  },
  "language_info": {
   "codemirror_mode": {
    "name": "ipython",
    "version": 3
   },
   "file_extension": ".py",
   "mimetype": "text/x-python",
   "name": "python",
   "nbconvert_exporter": "python",
   "pygments_lexer": "ipython3",
   "version": "3.12.4"
  }
 },
 "nbformat": 4,
 "nbformat_minor": 2
}
