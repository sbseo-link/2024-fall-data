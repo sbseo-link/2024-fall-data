{
 "cells": [
  {
   "cell_type": "markdown",
   "metadata": {},
   "source": [
    "# 파일입출력"
   ]
  },
  {
   "cell_type": "code",
   "execution_count": 3,
   "metadata": {},
   "outputs": [],
   "source": [
    "# sample2.txt 파일을 읽어서 각 줄의 idx 9부터 21자리를 발췌해서 리스트에 저장하는데 만약 이미 리스트에 있는 값이라면 저장하지 않는다.\n",
    "# 리스트를 반환하는 함수를 작성하시오.\n",
    "def extract_unique_values(file_path: str) -> list[str]:\n",
    "    # 아래 코드 작성\n",
    "    return\n"
   ]
  },
  {
   "cell_type": "code",
   "execution_count": 4,
   "metadata": {},
   "outputs": [],
   "source": [
    "# 위 함수를 사용하여 반환한 리스트를 하나씩 한줄에 적어서 sample2_result.txt 파일에 저장하시오.\n",
    "def save_result_to_file(result: list[str], file_path: str) -> None:\n",
    "    # 아래 코드 작성\n",
    "    return\n"
   ]
  },
  {
   "cell_type": "code",
   "execution_count": null,
   "metadata": {},
   "outputs": [],
   "source": []
  }
 ],
 "metadata": {
  "kernelspec": {
   "display_name": "base",
   "language": "python",
   "name": "python3"
  },
  "language_info": {
   "codemirror_mode": {
    "name": "ipython",
    "version": 3
   },
   "file_extension": ".py",
   "mimetype": "text/x-python",
   "name": "python",
   "nbconvert_exporter": "python",
   "pygments_lexer": "ipython3",
   "version": "3.12.4"
  }
 },
 "nbformat": 4,
 "nbformat_minor": 2
}
