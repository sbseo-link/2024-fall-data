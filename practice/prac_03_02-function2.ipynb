{
 "cells": [
  {
   "cell_type": "markdown",
   "metadata": {},
   "source": [
    "## 함수"
   ]
  },
  {
   "cell_type": "code",
   "execution_count": 10,
   "metadata": {},
   "outputs": [],
   "source": [
    "# 두 리스트의 공통요소를 새로운 리스트로 반환하기\n",
    "# ex) print(common_elements([1, 2, 3], [2, 3, 4])) # [2, 3] 반환\n",
    "\n",
    "def common_elements(list1, list2):\n",
    "    # 아래 함수 작성\n",
    "    pass"
   ]
  },
  {
   "cell_type": "code",
   "execution_count": 11,
   "metadata": {},
   "outputs": [
    {
     "name": "stdout",
     "output_type": "stream",
     "text": [
      "120\n"
     ]
    }
   ],
   "source": [
    "# Recursive Function\n",
    "# 재귀함수: 함수 내부에서 자기 자신을 호출하는 함수\n",
    "\n",
    "def factorial(n):\n",
    "    if n == 0 or n == 1:  # 기본 종료 조건\n",
    "        return 1\n",
    "    return n * factorial(n - 1)  # 재귀 호출\n",
    "\n",
    "# 예시\n",
    "print(factorial(5))  # 출력: 120 (5 * 4 * 3 * 2 * 1)"
   ]
  },
  {
   "cell_type": "code",
   "execution_count": 12,
   "metadata": {},
   "outputs": [
    {
     "name": "stdout",
     "output_type": "stream",
     "text": [
      "0\n",
      "1\n",
      "2\n",
      "3\n",
      "4\n",
      "5\n",
      "6\n",
      "7\n",
      "8\n",
      "9\n"
     ]
    }
   ],
   "source": [
    "def recursive_function(n):\n",
    "    if n == 10:\n",
    "        return\n",
    "    print(n)\n",
    "    recursive_function(n+1)\n",
    "\n",
    "recursive_function(0)"
   ]
  },
  {
   "cell_type": "code",
   "execution_count": 13,
   "metadata": {},
   "outputs": [],
   "source": [
    "# 함수의 재귀적 호출을 통해 리스트 내부의 모든 요소가 True 인지 확인하기\n",
    "# ex) print(all_true([True, [True, True], [True, [True, True]]]))  # True 반환\n",
    "# ex) print(all_true([True, [True, False], [True, [True, True]]])) # False 반환\n",
    "# hint) a = \"hi\" -> isinstance(a, str) == True\n",
    "\n",
    "def is_all_true(list):\n",
    "    # 아래 함수 작성\n",
    "    pass"
   ]
  },
  {
   "cell_type": "code",
   "execution_count": null,
   "metadata": {},
   "outputs": [],
   "source": []
  }
 ],
 "metadata": {
  "kernelspec": {
   "display_name": "base",
   "language": "python",
   "name": "python3"
  },
  "language_info": {
   "codemirror_mode": {
    "name": "ipython",
    "version": 3
   },
   "file_extension": ".py",
   "mimetype": "text/x-python",
   "name": "python",
   "nbconvert_exporter": "python",
   "pygments_lexer": "ipython3",
   "version": "3.12.4"
  }
 },
 "nbformat": 4,
 "nbformat_minor": 2
}
