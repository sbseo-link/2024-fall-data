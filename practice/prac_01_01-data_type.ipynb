{
 "cells": [
  {
   "cell_type": "markdown",
   "metadata": {},
   "source": [
    "## 자료형"
   ]
  },
  {
   "cell_type": "code",
   "execution_count": 2,
   "metadata": {},
   "outputs": [],
   "source": [
    "# 문자열 더하기\n",
    "my_string1 = \"Hello\"\n",
    "my_string2 = \"World\"\n",
    "\n",
    "# 아래 코드 작성"
   ]
  },
  {
   "cell_type": "code",
   "execution_count": 3,
   "metadata": {},
   "outputs": [],
   "source": [
    "# 문자열 바꾸기\n",
    "my_string = \"Hello World\"\n",
    "\n",
    "# 아래 Hello 를 Bye 로 바꾸기"
   ]
  },
  {
   "cell_type": "code",
   "execution_count": 4,
   "metadata": {},
   "outputs": [],
   "source": [
    "# 리스트에 element 추가하기\n",
    "my_list = [1,2,3]\n",
    "\n",
    "# 아래 float 4 를 더하는 코드 작성"
   ]
  },
  {
   "cell_type": "code",
   "execution_count": 6,
   "metadata": {},
   "outputs": [],
   "source": [
    "# 리스트의 마지막 element 빼내기\n",
    "my_list = [1,2,3,4,5]\n",
    "\n",
    "# 아래 5 를 빼내서 'my_last_element' 에 저장하기"
   ]
  },
  {
   "cell_type": "code",
   "execution_count": 7,
   "metadata": {},
   "outputs": [],
   "source": [
    "# 리스트에 있는 모든 element 를 더하기\n",
    "my_list = [1,2,3,4,5]\n",
    "cnt = 0\n",
    "\n",
    "# 아래 코드 작성"
   ]
  },
  {
   "cell_type": "code",
   "execution_count": 9,
   "metadata": {},
   "outputs": [],
   "source": [
    "# 딕셔너리에 key 가 \"key1\" 인 value 출력하기\n",
    "my_dict = {\"key1\": \"value1\", \"key2\": \"value2\", \"key3\": \"value3\"}\n",
    "\n",
    "# 아래 코드 작성"
   ]
  },
  {
   "cell_type": "code",
   "execution_count": 10,
   "metadata": {},
   "outputs": [],
   "source": [
    "# 딕셔너리에 key value 추가하기\n",
    "my_dict = {\"key1\": \"value1\", \"key2\": \"value2\", \"key3\": \"value3\"}\n",
    "\n",
    "# 아래 key: \"new_key\", value: \"new_value\" 추가하기"
   ]
  },
  {
   "cell_type": "code",
   "execution_count": 11,
   "metadata": {},
   "outputs": [],
   "source": [
    "# 딕셔너리에 key 가 \"key1\" 인 key 삭제하기\n",
    "my_dict = {\"key1\": \"value1\", \"key2\": \"value2\", \"key3\": \"value3\"}\n",
    "\n",
    "# 아래 코드 작성"
   ]
  },
  {
   "cell_type": "code",
   "execution_count": null,
   "metadata": {},
   "outputs": [],
   "source": []
  }
 ],
 "metadata": {
  "kernelspec": {
   "display_name": "base",
   "language": "python",
   "name": "python3"
  },
  "language_info": {
   "codemirror_mode": {
    "name": "ipython",
    "version": 3
   },
   "file_extension": ".py",
   "mimetype": "text/x-python",
   "name": "python",
   "nbconvert_exporter": "python",
   "pygments_lexer": "ipython3",
   "version": "3.12.4"
  }
 },
 "nbformat": 4,
 "nbformat_minor": 2
}
