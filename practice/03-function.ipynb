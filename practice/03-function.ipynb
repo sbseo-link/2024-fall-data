{
 "cells": [
  {
   "cell_type": "markdown",
   "metadata": {},
   "source": [
    "# 함수"
   ]
  },
  {
   "cell_type": "markdown",
   "metadata": {},
   "source": [
    "### 정의"
   ]
  },
  {
   "cell_type": "code",
   "execution_count": 1,
   "metadata": {},
   "outputs": [],
   "source": [
    "# 1. 함수 정의 \n",
    "# - def: 함수를 정의하는 키워드\n",
    "# - underscore name: 함수의 이름 \n",
    "#   (함수의 이름은 소문자로 시작하고, 함수의 이름은 모두 소문자로 작성하는 것이 관례)\n",
    "# - arguments: 함수의 매개변수\n",
    "# - return: 함수의 반환값\n",
    "\n",
    "def simple_division(a, b):\n",
    "    return a / b"
   ]
  },
  {
   "cell_type": "markdown",
   "metadata": {},
   "source": [
    "### 호출"
   ]
  },
  {
   "cell_type": "code",
   "execution_count": 2,
   "metadata": {},
   "outputs": [
    {
     "data": {
      "text/plain": [
       "5.0"
      ]
     },
     "execution_count": 2,
     "metadata": {},
     "output_type": "execute_result"
    }
   ],
   "source": [
    "# 2. 함수 호출\n",
    "simple_division(10, 2)"
   ]
  },
  {
   "cell_type": "markdown",
   "metadata": {},
   "source": [
    "### 인자"
   ]
  },
  {
   "cell_type": "code",
   "execution_count": 3,
   "metadata": {},
   "outputs": [
    {
     "name": "stdout",
     "output_type": "stream",
     "text": [
      "10 / 2 =  5.0\n",
      "10 / 1 =  10.0\n"
     ]
    }
   ],
   "source": [
    "# 3. 인자 (기본값 유무)\n",
    "# - 기본값이 없는 인자: 함수 호출 시 반드시 인자를 전달해야 함\n",
    "# - 기본값이 있는 인자: 함수 호출 시 인자를 전달하지 않아도 됨\n",
    "\n",
    "def simple_division(a, b=1):\n",
    "    return a / b\n",
    "\n",
    "print(\"10 / 2 = \", simple_division(10, 2))\n",
    "print(\"10 / 1 = \", simple_division(10))\n"
   ]
  },
  {
   "cell_type": "code",
   "execution_count": 4,
   "metadata": {},
   "outputs": [
    {
     "name": "stdout",
     "output_type": "stream",
     "text": [
      "\n",
      "    This function divides a by b.\n",
      "\n",
      "    Args:\n",
      "        a (int): 분자\n",
      "        b (int): 분모 (기본값: 1)\n",
      "\n",
      "    Returns:\n",
      "        int: 나눗셈 결과\n",
      "    \n"
     ]
    }
   ],
   "source": [
    "# 4. 함수 설명\n",
    "# - 함수의 설명은 함수의 첫 번째 줄에 작성하는 것이 관례\n",
    "# - 함수의 설명은 함수의 이름과 함수의 매개변수를 설명하는 것이 관례\n",
    "\n",
    "def simple_division(a, b=1):\n",
    "    \"\"\"\n",
    "    This function divides a by b.\n",
    "\n",
    "    Args:\n",
    "        a (int): 분자\n",
    "        b (int): 분모 (기본값: 1)\n",
    "\n",
    "    Returns:\n",
    "        int: 나눗셈 결과\n",
    "    \"\"\"\n",
    "    return a / b\n",
    "\n",
    "print(simple_division.__doc__)"
   ]
  },
  {
   "cell_type": "markdown",
   "metadata": {},
   "source": [
    "### 가변인자와 키워드인자"
   ]
  },
  {
   "cell_type": "code",
   "execution_count": 5,
   "metadata": {},
   "outputs": [
    {
     "name": "stdout",
     "output_type": "stream",
     "text": [
      "value: 1\n",
      "value: 2\n",
      "value: 3\n",
      "value: 4\n",
      "value: 5\n",
      "key: name, value: John\n",
      "key: age, value: 20\n",
      "key: city, value: Seoul\n",
      "value: 1\n",
      "value: 2\n",
      "value: 3\n",
      "value: 4\n",
      "value: 5\n",
      "key: name, value: John\n",
      "key: age, value: 20\n",
      "key: city, value: Seoul\n"
     ]
    }
   ],
   "source": [
    "# 5. 가변 인자와 키워드 인자\n",
    "# - 가변 인자: 함수의 매개변수가 가변적으로 변할 수 있음\n",
    "# - 키워드 인자: 함수의 매개변수가 키워드로 전달될 수 있음\n",
    "\n",
    "def print_values(*args):\n",
    "    for value in args:\n",
    "        print(f\"value: {value}\")\n",
    "\n",
    "def print_key_values(**kwargs):\n",
    "    for key, value in kwargs.items():\n",
    "        print(f\"key: {key}, value: {value}\")\n",
    "\n",
    "def print_values_and_key_values(*args, **kwargs):\n",
    "    for value in args:\n",
    "        print(f\"value: {value}\")\n",
    "    for key, value in kwargs.items():\n",
    "        print(f\"key: {key}, value: {value}\")\n",
    "\n",
    "print_values(1, 2, 3, 4, 5)\n",
    "print_key_values(name=\"John\", age=20, city=\"Seoul\")\n",
    "print_values_and_key_values(1, 2, 3, 4, 5, name=\"John\", age=20, city=\"Seoul\")"
   ]
  },
  {
   "cell_type": "markdown",
   "metadata": {},
   "source": [
    "### type hinting"
   ]
  },
  {
   "cell_type": "code",
   "execution_count": 6,
   "metadata": {},
   "outputs": [
    {
     "name": "stdout",
     "output_type": "stream",
     "text": [
      "5.0\n"
     ]
    }
   ],
   "source": [
    "# 6. type hinting\n",
    "# - type hinting: 함수의 매개변수와 반환값의 타입을 힌트로 제공하는 것\n",
    "\n",
    "def simple_division(a: int, b: int) -> float:\n",
    "    return a / b\n",
    "\n",
    "print(simple_division(10, 2))\n"
   ]
  },
  {
   "cell_type": "markdown",
   "metadata": {},
   "source": [
    "### scope"
   ]
  },
  {
   "cell_type": "code",
   "execution_count": 7,
   "metadata": {},
   "outputs": [
    {
     "name": "stdout",
     "output_type": "stream",
     "text": [
      "5.0\n"
     ]
    }
   ],
   "source": [
    "# 7. local scope\n",
    "# - local scope: 함수 내부에서 정의된 변수의 유효 범위\n",
    "\n",
    "def simple_division(a, b):\n",
    "    return a / b\n",
    "\n",
    "print(simple_division(10, 2))"
   ]
  },
  {
   "cell_type": "code",
   "execution_count": 8,
   "metadata": {},
   "outputs": [
    {
     "name": "stdout",
     "output_type": "stream",
     "text": [
      "1. read_global_variable:  10\n",
      "2. modify_global_variable:  20\n",
      "global variable:  20\n",
      "3. modify_global_variable_by_local_variable:  30\n",
      "global variable:  20\n"
     ]
    }
   ],
   "source": [
    "# 8. global scope\n",
    "# - global scope: 함수 외부에서 정의된 변수의 유효 범위\n",
    "\n",
    "a = 10\n",
    "\n",
    "def read_global_variable():\n",
    "    print('1. read_global_variable: ', a)\n",
    "\n",
    "def modify_global_variable():\n",
    "    global a\n",
    "    a = 20\n",
    "    print('2. modify_global_variable: ', a)\n",
    "\n",
    "def modify_global_variable_by_local_variable():\n",
    "    a = 30\n",
    "    print('3. modify_global_variable_by_local_variable: ', a)\n",
    "\n",
    "read_global_variable()\n",
    "\n",
    "modify_global_variable()\n",
    "\n",
    "print('global variable: ', a)\n",
    "modify_global_variable_by_local_variable()\n",
    "print('global variable: ', a)\n"
   ]
  },
  {
   "cell_type": "markdown",
   "metadata": {},
   "source": [
    "### 함수의 목적"
   ]
  },
  {
   "cell_type": "code",
   "execution_count": 9,
   "metadata": {},
   "outputs": [
    {
     "name": "stdout",
     "output_type": "stream",
     "text": [
      "15\n"
     ]
    }
   ],
   "source": [
    "# 9. 함수 정의 목적\n",
    "# - 함수 정의 목적: 코드의 재사용성을 높이기 위함\n",
    "# - 함수 정의 목적: 코드의 가독성을 높이기 위함\n",
    "# - 함수 정의 목적: 코드의 유지보수를 용이하게 하기 위함\n",
    "\n",
    "def data_transformation_from_string_to_int(data):\n",
    "    return [int(value) for value in data]\n",
    "\n",
    "def sum_data(data):\n",
    "    return sum(data)\n",
    "\n",
    "def process_data(data):\n",
    "    transformed_data = data_transformation_from_string_to_int(data)\n",
    "    result = sum_data(transformed_data)\n",
    "    return result\n",
    "\n",
    "print(process_data([\"1\", \"2\", \"3\", \"4\", \"5\"]))"
   ]
  },
  {
   "cell_type": "code",
   "execution_count": null,
   "metadata": {},
   "outputs": [],
   "source": []
  }
 ],
 "metadata": {
  "kernelspec": {
   "display_name": "Python 3",
   "language": "python",
   "name": "python3"
  },
  "language_info": {
   "codemirror_mode": {
    "name": "ipython",
    "version": 3
   },
   "file_extension": ".py",
   "mimetype": "text/x-python",
   "name": "python",
   "nbconvert_exporter": "python",
   "pygments_lexer": "ipython3",
   "version": "3.12.4"
  }
 },
 "nbformat": 4,
 "nbformat_minor": 2
}
