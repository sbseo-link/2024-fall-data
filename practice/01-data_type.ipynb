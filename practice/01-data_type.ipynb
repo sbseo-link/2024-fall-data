{
 "cells": [
  {
   "cell_type": "markdown",
   "metadata": {},
   "source": [
    "# 자료형"
   ]
  },
  {
   "cell_type": "markdown",
   "metadata": {},
   "source": [
    "### 자료형 종류: 불변형과 가변형"
   ]
  },
  {
   "cell_type": "code",
   "execution_count": 1,
   "metadata": {},
   "outputs": [
    {
     "name": "stdout",
     "output_type": "stream",
     "text": [
      "1. None - a: None, type: <class 'NoneType'>\n",
      "2. 정수 - a: 10, type: <class 'int'>\n",
      "3. 실수 - a: 10.5, type: <class 'float'>\n",
      "4. bool - a: True, type: <class 'bool'>\n",
      "5. 문자열 - a: Hello, World!, type: <class 'str'>\n",
      "6. 튜플 - a: (1, 2, 3, 4, 5), type: <class 'tuple'>\n",
      "7. 집합 - a: {1, 2, 3, 4, 5}, type: <class 'set'>\n",
      "8. 리스트 - a: [1, 2, 3, 4, 5], type: <class 'list'>\n",
      "9. 딕셔너리 - a: {'a': 1, 'b': 2, 'c': 3}, type: <class 'dict'>\n"
     ]
    }
   ],
   "source": [
    "# 1. 자료형 종류\n",
    "# (1) 불변형\n",
    "# 1. None\n",
    "a = None\n",
    "print(f\"1. None - a: {a}, type: {type(a)}\")\n",
    "# 2. 정수\n",
    "a = 10\n",
    "print(f\"2. 정수 - a: {a}, type: {type(a)}\")\n",
    "# 3. 실수\n",
    "a = 10.5\n",
    "print(f\"3. 실수 - a: {a}, type: {type(a)}\")\n",
    "# 4. bool\n",
    "a = True\n",
    "print(f\"4. bool - a: {a}, type: {type(a)}\")\n",
    "# 5. 문자열\n",
    "a = \"Hello, World!\"\n",
    "print(f\"5. 문자열 - a: {a}, type: {type(a)}\")\n",
    "# 6. 튜플\n",
    "a = (1, 2, 3, 4, 5)\n",
    "print(f\"6. 튜플 - a: {a}, type: {type(a)}\")\n",
    "\n",
    "# (2) 가변형\n",
    "# 7. 집합\n",
    "a = {1, 2, 3, 4, 5}\n",
    "print(f\"7. 집합 - a: {a}, type: {type(a)}\")\n",
    "# 8. 리스트\n",
    "a = [1, 2, 3, 4, 5]\n",
    "print(f\"8. 리스트 - a: {a}, type: {type(a)}\")\n",
    "# 9. 딕셔너리\n",
    "a = {\"a\": 1, \"b\": 2, \"c\": 3}\n",
    "print(f\"9. 딕셔너리 - a: {a}, type: {type(a)}\")\n",
    "\n"
   ]
  },
  {
   "cell_type": "markdown",
   "metadata": {},
   "source": [
    "### 값과 객체 (불변형과 가변형에서의 차이)"
   ]
  },
  {
   "cell_type": "code",
   "execution_count": 2,
   "metadata": {},
   "outputs": [
    {
     "name": "stdout",
     "output_type": "stream",
     "text": [
      "True\n",
      "True\n",
      "False\n",
      "False\n"
     ]
    }
   ],
   "source": [
    "# 2. ==, is\n",
    "# ==: 같은 값인지 비교\n",
    "# is: 같은 객체인지 비교\n",
    "a = 10\n",
    "b = 10\n",
    "print(a == b) # True\n",
    "print(a is b) # True\n",
    "\n",
    "a = 10\n",
    "b = 20\n",
    "print(a == b) # False\n",
    "print(a is b) # False"
   ]
  },
  {
   "cell_type": "code",
   "execution_count": 3,
   "metadata": {},
   "outputs": [
    {
     "name": "stdout",
     "output_type": "stream",
     "text": [
      "True\n",
      "False\n"
     ]
    }
   ],
   "source": [
    "a = [1, 2, 3]\n",
    "b = [1, 2, 3]\n",
    "print(a == b) # True\n",
    "print(a is b) # False"
   ]
  },
  {
   "cell_type": "markdown",
   "metadata": {},
   "source": [
    "### None type"
   ]
  },
  {
   "cell_type": "code",
   "execution_count": 4,
   "metadata": {},
   "outputs": [
    {
     "name": "stdout",
     "output_type": "stream",
     "text": [
      "True\n",
      "True\n"
     ]
    }
   ],
   "source": [
    "# 1. None\n",
    "a = None\n",
    "b = \"my string\"\n",
    "print(a is None)\n",
    "print(b is not None)\n"
   ]
  },
  {
   "cell_type": "markdown",
   "metadata": {},
   "source": [
    "## int, float type"
   ]
  },
  {
   "cell_type": "code",
   "execution_count": 5,
   "metadata": {},
   "outputs": [
    {
     "name": "stdout",
     "output_type": "stream",
     "text": [
      "a+b: 11.6\n",
      "a-b: 8.4\n",
      "a*b: 16.0\n",
      "a/b: 6.25\n",
      "a//b: 6.0\n",
      "a%b: 0.39999999999999947\n",
      "a**b: 39.810717055349734\n"
     ]
    }
   ],
   "source": [
    "# 2,3. 정수와 실수\n",
    "a = 10\n",
    "b = 1.6\n",
    "\n",
    "print(f\"a+b: {a+b}\")\n",
    "print(f\"a-b: {a-b}\")\n",
    "print(f\"a*b: {a*b}\")\n",
    "print(f\"a/b: {a/b}\")\n",
    "print(f\"a//b: {a//b}\")\n",
    "print(f\"a%b: {a%b}\")\n",
    "print(f\"a**b: {a**b}\")\n",
    "\n"
   ]
  },
  {
   "cell_type": "markdown",
   "metadata": {},
   "source": [
    "### boolean type"
   ]
  },
  {
   "cell_type": "code",
   "execution_count": 6,
   "metadata": {},
   "outputs": [
    {
     "name": "stdout",
     "output_type": "stream",
     "text": [
      "a and b: False\n",
      "a or b: True\n",
      "not a: False\n",
      "not b: True\n"
     ]
    }
   ],
   "source": [
    "# 4. bool\n",
    "a = True\n",
    "b = False\n",
    "\n",
    "print(f\"a and b: {a and b}\")\n",
    "print(f\"a or b: {a or b}\")\n",
    "print(f\"not a: {not a}\")\n",
    "print(f\"not b: {not b}\")"
   ]
  },
  {
   "cell_type": "markdown",
   "metadata": {},
   "source": [
    "### string type"
   ]
  },
  {
   "cell_type": "code",
   "execution_count": 7,
   "metadata": {},
   "outputs": [
    {
     "name": "stdout",
     "output_type": "stream",
     "text": [
      "a[1]: e\n",
      "a.split(',') : ['Hello', ' World!']\n",
      "a.replace('Hello', 'Bye'): Bye, World!\n",
      "a.upper(): HELLO, WORLD!\n",
      "a.lower(): hello, world!\n",
      "a.strip(): Hello, World!\n",
      "a.find('W'): 7\n"
     ]
    }
   ],
   "source": [
    "# 5. 문자열\n",
    "a = \"Hello, World!\"\n",
    "\n",
    "print(f\"a[1]: {a[1]}\")\n",
    "print(f\"a.split(',') : {a.split(',')}\")\n",
    "print(f\"a.replace('Hello', 'Bye'): {a.replace('Hello', 'Bye')}\")\n",
    "print(f\"a.upper(): {a.upper()}\")\n",
    "print(f\"a.lower(): {a.lower()}\")\n",
    "print(f\"a.strip(): {a.strip()}\")\n",
    "print(f\"a.find('W'): {a.find('W')}\")\n"
   ]
  },
  {
   "cell_type": "markdown",
   "metadata": {},
   "source": [
    "### tuple type"
   ]
  },
  {
   "cell_type": "code",
   "execution_count": 8,
   "metadata": {},
   "outputs": [],
   "source": [
    "# 6. 튜플\n",
    "a = (1, 2, 3, 4, 5)\n",
    "# a.append(6)"
   ]
  },
  {
   "cell_type": "markdown",
   "metadata": {},
   "source": [
    "### set type"
   ]
  },
  {
   "cell_type": "code",
   "execution_count": 9,
   "metadata": {},
   "outputs": [
    {
     "name": "stdout",
     "output_type": "stream",
     "text": [
      "add 6: {1, 2, 3, 4, 5, 6}\n",
      "add 1: {1, 2, 3, 4, 5, 6}\n",
      "discard 1: {2, 3, 4, 5, 6}\n"
     ]
    }
   ],
   "source": [
    "# 7. 집합\n",
    "a = {1, 2, 3, 4, 5}\n",
    "a.add(6)\n",
    "print(f\"add 6: {a}\")\n",
    "\n",
    "a.add(1)\n",
    "print(f\"add 1: {a}\")\n",
    "\n",
    "a.discard(1) # 없는 값을 삭제하려고 하면 에러가 발생하지 않음\n",
    "print(f\"discard 1: {a}\")\n",
    "\n",
    "# a.remove(1) # 없는 값을 삭제하려고 하면 에러가 발생\n",
    "# print(f\"remove 1: {a}\")\n",
    "\n"
   ]
  },
  {
   "cell_type": "markdown",
   "metadata": {},
   "source": [
    "### list type"
   ]
  },
  {
   "cell_type": "code",
   "execution_count": 10,
   "metadata": {},
   "outputs": [
    {
     "name": "stdout",
     "output_type": "stream",
     "text": [
      "append 6: [1, 2, 3, 4, 5, 6]\n",
      "insert 0: [0, 1, 2, 3, 4, 5, 6]\n",
      "pop: [0, 1, 2, 3, 4, 5]\n",
      "a+b: [0, 1, 2, 3, 4, 5, 7, 8, 9, 10, 11, 12]\n"
     ]
    }
   ],
   "source": [
    "# 8. 리스트\n",
    "a = [1, 2, 3, 4, 5]\n",
    "a.append(6)\n",
    "print(f\"append 6: {a}\")\n",
    "\n",
    "a.insert(0, 0)\n",
    "print(f\"insert 0: {a}\")\n",
    "\n",
    "a.pop()\n",
    "print(f\"pop: {a}\")\n",
    "\n",
    "a.extend([7, 8, 9])\n",
    "\n",
    "b = [10, 11, 12]\n",
    "print(f\"a+b: {a+b}\")"
   ]
  },
  {
   "cell_type": "markdown",
   "metadata": {},
   "source": [
    "### dictionary type"
   ]
  },
  {
   "cell_type": "code",
   "execution_count": 11,
   "metadata": {},
   "outputs": [
    {
     "name": "stdout",
     "output_type": "stream",
     "text": [
      "a['a']: 1\n",
      "a.keys(): dict_keys(['a', 'b', 'c'])\n",
      "a.values(): dict_values([1, 2, 3])\n",
      "a.items(): dict_items([('a', 1), ('b', 2), ('c', 3)])\n"
     ]
    }
   ],
   "source": [
    "# 9. 딕셔너리\n",
    "a = {\"a\": 1, \"b\": 2, \"c\": 3}\n",
    "print(f\"a['a']: {a['a']}\")\n",
    "print(f\"a.keys(): {a.keys()}\")\n",
    "print(f\"a.values(): {a.values()}\")\n",
    "print(f\"a.items(): {a.items()}\")"
   ]
  },
  {
   "cell_type": "markdown",
   "metadata": {},
   "source": [
    "### (주의) method 의 return 값"
   ]
  },
  {
   "cell_type": "code",
   "execution_count": 12,
   "metadata": {},
   "outputs": [
    {
     "name": "stdout",
     "output_type": "stream",
     "text": [
      "a.sort(): None\n",
      "sorted(a): [1, 2, 3, 4, 5]\n"
     ]
    }
   ],
   "source": [
    "# method 의 return 값 주의\n",
    "a = [3, 1, 2, 5, 4]\n",
    "b = a.sort()\n",
    "print(f\"a.sort(): {b}\")\n",
    "\n",
    "a = [3, 1, 2, 5, 4]\n",
    "b = sorted(a)\n",
    "print(f\"sorted(a): {b}\")\n",
    "\n",
    "\n"
   ]
  },
  {
   "cell_type": "code",
   "execution_count": null,
   "metadata": {},
   "outputs": [],
   "source": []
  }
 ],
 "metadata": {
  "kernelspec": {
   "display_name": "base",
   "language": "python",
   "name": "python3"
  },
  "language_info": {
   "codemirror_mode": {
    "name": "ipython",
    "version": 3
   },
   "file_extension": ".py",
   "mimetype": "text/x-python",
   "name": "python",
   "nbconvert_exporter": "python",
   "pygments_lexer": "ipython3",
   "version": "3.12.4"
  }
 },
 "nbformat": 4,
 "nbformat_minor": 2
}
