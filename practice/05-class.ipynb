{
 "cells": [
  {
   "cell_type": "markdown",
   "metadata": {},
   "source": [
    "# Class"
   ]
  },
  {
   "cell_type": "markdown",
   "metadata": {},
   "source": [
    "### function / class & object (instance) / module & package"
   ]
  },
  {
   "cell_type": "code",
   "execution_count": 2,
   "metadata": {},
   "outputs": [],
   "source": [
    "# function / class & object (instance) / module & package\n",
    "# function: 특정 작업을 수행하는 코드 블록\n",
    "def introduce(name, age):\n",
    "    return f\"Hello, my name is {name} and I am {age} years old\"\n"
   ]
  },
  {
   "cell_type": "code",
   "execution_count": 3,
   "metadata": {},
   "outputs": [
    {
     "name": "stdout",
     "output_type": "stream",
     "text": [
      "Hello, my name is John and I am 20 years old\n",
      "Hello, my name is Jane and I am 25 years old\n"
     ]
    }
   ],
   "source": [
    "# class: 어떤 데이터를 기반으로 실행하는 함수들을 묶어서 관리하는 것\n",
    "# object: class 를 통해 만들어진 객체\n",
    "class Person:\n",
    "    def __init__(self, name, age):\n",
    "        self.name = name\n",
    "        self.age = age\n",
    "\n",
    "    def introduce(self):\n",
    "        return f\"Hello, my name is {self.name} and I am {self.age} years old\"\n",
    "\n",
    "person_a = Person(\"John\", 20)\n",
    "person_b = Person(\"Jane\", 25)\n",
    "\n",
    "print(person_a.introduce())\n",
    "print(person_b.introduce())"
   ]
  },
  {
   "cell_type": "code",
   "execution_count": 4,
   "metadata": {},
   "outputs": [
    {
     "name": "stdout",
     "output_type": "stream",
     "text": [
      "[2005, 2000]\n"
     ]
    }
   ],
   "source": [
    "# module: 특정 작업을 수행하는 코드 블록을 모아놓은 파일\n",
    "import module_calendar\n",
    "\n",
    "classmate_born_year = []\n",
    "\n",
    "for person in [person_a, person_b]:\n",
    "    classmate_born_year.append(module_calendar.born_year(person.age))\n",
    "\n",
    "print(classmate_born_year)\n"
   ]
  },
  {
   "cell_type": "code",
   "execution_count": 5,
   "metadata": {},
   "outputs": [
    {
     "data": {
      "text/plain": [
       "5"
      ]
     },
     "execution_count": 5,
     "metadata": {},
     "output_type": "execute_result"
    }
   ],
   "source": [
    "# package\n",
    "import math\n",
    "\n",
    "math.gcd(person_a.age, person_b.age)"
   ]
  },
  {
   "cell_type": "markdown",
   "metadata": {},
   "source": [
    "### class 정의와 구성"
   ]
  },
  {
   "cell_type": "code",
   "execution_count": 6,
   "metadata": {},
   "outputs": [],
   "source": [
    "# class 정의\n",
    "class Person:\n",
    "    def __init__(self, name, age):\n",
    "        self.name = name\n",
    "        self.age = age\n",
    "\n",
    "    def introduce(self):\n",
    "        return f\"Hello, my name is {self.name} and I am {self.age} years old\""
   ]
  },
  {
   "cell_type": "code",
   "execution_count": 7,
   "metadata": {},
   "outputs": [
    {
     "name": "stdout",
     "output_type": "stream",
     "text": [
      "str this is Person class\n",
      "str this is Person class\n",
      "repr Person('John', 20)\n"
     ]
    }
   ],
   "source": [
    "# class 구성\n",
    "# __init__: 생성자\n",
    "# self: 인스턴스 자신\n",
    "# __str__: 인스턴스를 문자열로 변환하는 메서드\n",
    "# __repr__: 인스턴스를 문자열로 변환하는 메서드 (객체를 생성할 수 있는 포맷이면 좋음)\n",
    "\n",
    "\n",
    "class Person:\n",
    "    def __init__(self, name, age):\n",
    "        self.name = name\n",
    "        self.age = age\n",
    "\n",
    "    def introduce(self):\n",
    "        return f\"Hello, my name is {self.name} and I am {self.age} years old\"\n",
    "\n",
    "    def __str__(self):\n",
    "        return f\"str this is Person class\"\n",
    "\n",
    "    def __repr__(self):\n",
    "        return f\"repr Person('{self.name}', {self.age})\"\n",
    "\n",
    "a = Person(\"John\", 20)\n",
    "print(a)\n",
    "print(str(a))\n",
    "print(repr(a))\n"
   ]
  },
  {
   "cell_type": "markdown",
   "metadata": {},
   "source": [
    "### 클래스 변수와 인스턴스 변수"
   ]
  },
  {
   "cell_type": "code",
   "execution_count": 8,
   "metadata": {},
   "outputs": [
    {
     "name": "stdout",
     "output_type": "stream",
     "text": [
      "[class variable]\n",
      "hi\n",
      "hi\n",
      "[change class variable]\n",
      "bye\n",
      "bye\n",
      "[change instance's class variable -> new instance variable]\n",
      "hello\n",
      "bye\n",
      "[change instance's instance variable]\n",
      "instance hi\n",
      "hello\n"
     ]
    }
   ],
   "source": [
    "# class 변수\n",
    "class Person:\n",
    "    class_variable = \"hi\"\n",
    "\n",
    "    def __init__(self):\n",
    "        self.instance_variable = \"hello\"\n",
    "\n",
    "\n",
    "a = Person()\n",
    "b = Person()\n",
    "\n",
    "print(\"[class variable]\")\n",
    "print(a.class_variable)\n",
    "print(b.class_variable)\n",
    "\n",
    "print(\"[change class variable]\")\n",
    "Person.class_variable = \"bye\"\n",
    "print(a.class_variable)\n",
    "print(b.class_variable)\n",
    "\n",
    "print(\"[change instance's class variable -> new instance variable]\")\n",
    "a.class_variable = \"hello\"\n",
    "print(a.class_variable)\n",
    "print(b.class_variable)\n",
    "\n",
    "print(\"[change instance's instance variable]\")\n",
    "a.instance_variable = \"instance hi\"\n",
    "print(a.instance_variable)\n",
    "print(b.instance_variable)\n",
    "\n"
   ]
  },
  {
   "cell_type": "markdown",
   "metadata": {},
   "source": [
    "### 상속"
   ]
  },
  {
   "cell_type": "code",
   "execution_count": 9,
   "metadata": {},
   "outputs": [
    {
     "name": "stdout",
     "output_type": "stream",
     "text": [
      "Hello, my name is John and I am 20 years old person\n",
      "breathing\n",
      "Hello, my name is Dog and I am 10 years old dog\n",
      "breathing\n"
     ]
    }
   ],
   "source": [
    "class LivingThing:\n",
    "    def breathe(self):\n",
    "        print(\"breathing\")\n",
    "\n",
    "class Person(LivingThing):\n",
    "    def __init__(self, name, age):\n",
    "        self.name = name\n",
    "        self.age = age\n",
    "\n",
    "    def introduce(self):\n",
    "        return f\"Hello, my name is {self.name} and I am {self.age} years old person\"\n",
    "\n",
    "class Dog(LivingThing):\n",
    "    def __init__(self, name, age):\n",
    "        self.name = name\n",
    "        self.age = age\n",
    "\n",
    "    def introduce(self):\n",
    "        return f\"Hello, my name is {self.name} and I am {self.age} years old dog\"\n",
    "\n",
    "person = Person(\"John\", 20)\n",
    "print(person.introduce())\n",
    "person.breathe()\n",
    "\n",
    "dog = Dog(\"Dog\", 10)\n",
    "print(dog.introduce())\n",
    "dog.breathe()\n",
    "\n"
   ]
  },
  {
   "cell_type": "markdown",
   "metadata": {},
   "source": [
    "### 다중상속과 MRO(Method Resolution Order)"
   ]
  },
  {
   "cell_type": "code",
   "execution_count": 10,
   "metadata": {},
   "outputs": [
    {
     "name": "stdout",
     "output_type": "stream",
     "text": [
      "A 클래스의 method_a 호출\n",
      "B 클래스의 method_b 호출\n",
      "C 클래스의 method_c 호출\n",
      "[<class '__main__.C'>, <class '__main__.A'>, <class '__main__.B'>, <class 'object'>]\n"
     ]
    }
   ],
   "source": [
    "# 부모 클래스 A\n",
    "class A:\n",
    "    def method_a(self):\n",
    "        print(\"A 클래스의 method_a 호출\")\n",
    "\n",
    "# 부모 클래스 B\n",
    "class B:\n",
    "    def method_b(self):\n",
    "        print(\"B 클래스의 method_b 호출\")\n",
    "\n",
    "# 다중 상속 자식 클래스 C\n",
    "class C(A, B):\n",
    "    def method_c(self):\n",
    "        print(\"C 클래스의 method_c 호출\")\n",
    "\n",
    "# 인스턴스 생성\n",
    "c = C()\n",
    "\n",
    "# 부모 클래스 메소드 호출\n",
    "c.method_a()  # A 클래스의 메소드 호출\n",
    "c.method_b()  # B 클래스의 메소드 호출\n",
    "\n",
    "# 자식 클래스 메소드 호출\n",
    "c.method_c()  # C 클래스의 메소드 호출\n",
    "\n",
    "print(C.mro())\n"
   ]
  },
  {
   "cell_type": "markdown",
   "metadata": {},
   "source": [
    "### 추상클래스"
   ]
  },
  {
   "cell_type": "code",
   "execution_count": 11,
   "metadata": {},
   "outputs": [
    {
     "name": "stdout",
     "output_type": "stream",
     "text": [
      "person sound hahaha\n",
      "dog sound wal wal wal\n"
     ]
    }
   ],
   "source": [
    "\n",
    "### 추상 클래스\n",
    "from abc import ABC, abstractmethod\n",
    "\n",
    "class Actions(ABC):\n",
    "    @abstractmethod\n",
    "    def make_sound(self):\n",
    "        pass\n",
    "\n",
    "class Person(Actions):\n",
    "    def __init__(self, name, age):\n",
    "        self.name = name\n",
    "        self.age = age\n",
    "\n",
    "    def introduce(self):\n",
    "        return f\"Hello, my name is {self.name} and I am {self.age} years old person\"\n",
    "\n",
    "    def make_sound(self):\n",
    "        print(\"person sound hahaha\")\n",
    "\n",
    "class Dog(Actions):\n",
    "    def __init__(self, name, age):\n",
    "        self.name = name\n",
    "        self.age = age\n",
    "\n",
    "    def introduce(self):\n",
    "        return f\"Hello, my name is {self.name} and I am {self.age} years old dog\"\n",
    "\n",
    "    def make_sound(self):\n",
    "        print(\"dog sound wal wal wal\")\n",
    "\n",
    "\n",
    "person = Person(\"John\", 20)\n",
    "person.make_sound()\n",
    "\n",
    "dog = Dog(\"Dog\", 10)\n",
    "dog.make_sound()\n",
    "\n",
    "\n"
   ]
  },
  {
   "cell_type": "code",
   "execution_count": null,
   "metadata": {},
   "outputs": [],
   "source": []
  }
 ],
 "metadata": {
  "kernelspec": {
   "display_name": "base",
   "language": "python",
   "name": "python3"
  },
  "language_info": {
   "codemirror_mode": {
    "name": "ipython",
    "version": 3
   },
   "file_extension": ".py",
   "mimetype": "text/x-python",
   "name": "python",
   "nbconvert_exporter": "python",
   "pygments_lexer": "ipython3",
   "version": "3.12.4"
  }
 },
 "nbformat": 4,
 "nbformat_minor": 2
}
