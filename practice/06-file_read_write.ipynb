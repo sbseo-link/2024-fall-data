{
 "cells": [
  {
   "cell_type": "markdown",
   "metadata": {},
   "source": [
    "# 파일입출력"
   ]
  },
  {
   "cell_type": "markdown",
   "metadata": {},
   "source": [
    "## Read"
   ]
  },
  {
   "cell_type": "markdown",
   "metadata": {},
   "source": [
    "* \"r\" : 읽기 모드 (파일이 없으면 오류 발생)\n",
    "* \"w\" : 쓰기 모드 (파일이 없으면 새로 생성, 있으면 기존 파일을 덮어씀)\n",
    "* \"a\" : 추가 모드 (파일이 없으면 새로 생성, 있으면 기존 파일 끝에 내용을 추가)\n",
    "* \"rb\", \"wb\" : 바이너리 모드 (예: 이미지 파일)"
   ]
  },
  {
   "cell_type": "code",
   "execution_count": 4,
   "metadata": {},
   "outputs": [
    {
     "name": "stdout",
     "output_type": "stream",
     "text": [
      "first line\n",
      "\n"
     ]
    }
   ],
   "source": [
    "# 파일을 열고, 데이터를 읽은 후 닫기\n",
    "file = open(\"sample.txt\", \"r\")  # \"r\"은 읽기 모드\n",
    "content = file.read()            # 파일 내용 읽기\n",
    "print(content)                   # 출력하기\n",
    "file.close()                     # 파일 닫기"
   ]
  },
  {
   "cell_type": "code",
   "execution_count": 6,
   "metadata": {},
   "outputs": [
    {
     "name": "stdout",
     "output_type": "stream",
     "text": [
      "first line\n",
      "\n"
     ]
    }
   ],
   "source": [
    "# with open 구문을 사용하여 파일을 열고, 데이터를 읽기\n",
    "with open(\"sample.txt\", \"r\") as file:\n",
    "    content = file.read()  # 파일 내용 읽기\n",
    "    print(content)         # 출력하기"
   ]
  },
  {
   "cell_type": "markdown",
   "metadata": {},
   "source": [
    "## Write"
   ]
  },
  {
   "cell_type": "code",
   "execution_count": 8,
   "metadata": {},
   "outputs": [],
   "source": [
    "file = open(\"sample.txt\", \"w\")\n",
    "file.write(\"new line\\n\")\n",
    "file.close()"
   ]
  },
  {
   "cell_type": "code",
   "execution_count": 9,
   "metadata": {},
   "outputs": [],
   "source": [
    "with open(\"sample.txt\", \"w\") as file:\n",
    "    file.write(\"new line\\n\")"
   ]
  },
  {
   "cell_type": "code",
   "execution_count": null,
   "metadata": {},
   "outputs": [],
   "source": []
  }
 ],
 "metadata": {
  "kernelspec": {
   "display_name": "base",
   "language": "python",
   "name": "python3"
  },
  "language_info": {
   "codemirror_mode": {
    "name": "ipython",
    "version": 3
   },
   "file_extension": ".py",
   "mimetype": "text/x-python",
   "name": "python",
   "nbconvert_exporter": "python",
   "pygments_lexer": "ipython3",
   "version": "3.12.4"
  }
 },
 "nbformat": 4,
 "nbformat_minor": 2
}
