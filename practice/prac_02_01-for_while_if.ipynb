{
 "cells": [
  {
   "cell_type": "markdown",
   "metadata": {},
   "source": [
    "## 제어문"
   ]
  },
  {
   "cell_type": "code",
   "execution_count": 1,
   "metadata": {},
   "outputs": [],
   "source": [
    "# for 문을 사용하여 짝수만 선별해서 even_numbers 에 저장하기\n",
    "my_numbers = [1,2,3,4,5,6,7,8,9,10]\n",
    "even_numbers = []\n",
    "\n",
    "# 아래 코드 작성"
   ]
  },
  {
   "cell_type": "code",
   "execution_count": 1,
   "metadata": {},
   "outputs": [],
   "source": [
    "# 리스트에서 \"my\" 로 시작하는 문자열 찾기\n",
    "my_list = [\"my_string\", \"ny_string\", \"yout_string\", \"my_class\", \"my_function\", \"min_list\"]\n",
    "\n",
    "# for or while 문을 사용하여 찾아서 출력하기\n"
   ]
  },
  {
   "cell_type": "code",
   "execution_count": 2,
   "metadata": {},
   "outputs": [],
   "source": [
    "# while 문을 사용하여 list 가 빌 때까지 첫번째 인자를 빼내서 출력하기\n",
    "my_list = [1,2,3,4,5,6,7,8,9,10]\n",
    "\n",
    "# 아래 코드 작성"
   ]
  },
  {
   "cell_type": "code",
   "execution_count": 3,
   "metadata": {},
   "outputs": [],
   "source": [
    "# while 문을 사용하여 python 내장 라이브러리 time 을 사용하여 현재 unix time 을 출력하고, \n",
    "# 1초 쉬었다가 다시 출력하기\n",
    "# 단, 출력한 횟수가 10번이 되면 종료하기\n",
    "\n",
    "# 아래 코드 작성"
   ]
  },
  {
   "cell_type": "code",
   "execution_count": 4,
   "metadata": {},
   "outputs": [],
   "source": [
    "# 숫자로 구성된 list 를 전체를 순회하여 최대값(my_max_value)과 최소값(my_min_value)을 저장하고 출력하기\n",
    "my_list = [1, -3, 2, 4, 5, 6, -10, 100, 3]\n",
    "my_max_value = None\n",
    "my_min_value = None\n",
    "\n",
    "# 아래 코드 작성"
   ]
  },
  {
   "cell_type": "code",
   "execution_count": null,
   "metadata": {},
   "outputs": [],
   "source": []
  }
 ],
 "metadata": {
  "kernelspec": {
   "display_name": "base",
   "language": "python",
   "name": "python3"
  },
  "language_info": {
   "codemirror_mode": {
    "name": "ipython",
    "version": 3
   },
   "file_extension": ".py",
   "mimetype": "text/x-python",
   "name": "python",
   "nbconvert_exporter": "python",
   "pygments_lexer": "ipython3",
   "version": "3.12.4"
  }
 },
 "nbformat": 4,
 "nbformat_minor": 2
}
