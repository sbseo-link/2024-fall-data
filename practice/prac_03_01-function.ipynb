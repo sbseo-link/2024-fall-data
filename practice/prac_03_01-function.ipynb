{
 "cells": [
  {
   "cell_type": "markdown",
   "metadata": {},
   "source": [
    "# Prac. 함수"
   ]
  },
  {
   "cell_type": "code",
   "execution_count": 1,
   "metadata": {},
   "outputs": [
    {
     "data": {
      "text/plain": [
       "'\\n\\n'"
      ]
     },
     "execution_count": 1,
     "metadata": {},
     "output_type": "execute_result"
    }
   ],
   "source": [
    "\"\"\"\n",
    "\n",
    "\"\"\""
   ]
  },
  {
   "cell_type": "code",
   "execution_count": 8,
   "metadata": {},
   "outputs": [],
   "source": [
    "def christmas_tree(height: int):\n",
    "    \"\"\"\n",
    "    height: int \n",
    "\n",
    "    조건\n",
    "    1. 총 height 줄의 트리를 만든다. \n",
    "    2. i번째 줄은 i개의 별을 출력한다\n",
    "\n",
    "    ex. height = 3 일 때, 완성된 모습\n",
    "    *\n",
    "    **\n",
    "    ***\n",
    "    \"\"\"\n",
    "    pass\n",
    "\n",
    "christmas_tree(3)\n",
    "    "
   ]
  },
  {
   "cell_type": "code",
   "execution_count": 12,
   "metadata": {},
   "outputs": [
    {
     "name": "stdout",
     "output_type": "stream",
     "text": [
      "         *\n",
      "        ***\n",
      "       *****\n",
      "      *******\n",
      "     *********\n",
      "    ***********\n",
      "   *************\n",
      "  ***************\n",
      " *****************\n",
      "*******************\n"
     ]
    }
   ],
   "source": [
    "def symmetry_christmas_tree(height: int):\n",
    "    \"\"\"\n",
    "    height: int\n",
    "\n",
    "    조건\n",
    "    1. 총 height 줄의 트리를 만든다. \n",
    "    2. i 번째줄은 2 * i - 1 개의 별을 출력한다\n",
    "    3. 마지막 줄의 별을 기준으로 각 줄의 별은 중앙에 위치하여 전체적으로 좌우대칭이 되도록 출력한다\n",
    "\n",
    "    ex. height = 3 일 때, 완성된 모습\n",
    "      *\n",
    "     ***\n",
    "    *****\n",
    "    \"\"\"\n",
    "    pass\n",
    "\n",
    "\n",
    "symmetry_christmas_tree(3)"
   ]
  },
  {
   "cell_type": "code",
   "execution_count": null,
   "metadata": {},
   "outputs": [],
   "source": []
  }
 ],
 "metadata": {
  "kernelspec": {
   "display_name": "base",
   "language": "python",
   "name": "python3"
  },
  "language_info": {
   "codemirror_mode": {
    "name": "ipython",
    "version": 3
   },
   "file_extension": ".py",
   "mimetype": "text/x-python",
   "name": "python",
   "nbconvert_exporter": "python",
   "pygments_lexer": "ipython3",
   "version": "3.12.4"
  }
 },
 "nbformat": 4,
 "nbformat_minor": 2
}
